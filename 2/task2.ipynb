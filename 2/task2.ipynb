{
  "nbformat": 4,
  "nbformat_minor": 0,
  "metadata": {
    "colab": {
      "provenance": []
    },
    "kernelspec": {
      "name": "python3",
      "display_name": "Python 3"
    },
    "language_info": {
      "name": "python"
    }
  },
  "cells": [
    {
      "cell_type": "code",
      "execution_count": 1,
      "metadata": {
        "id": "hBXPLir2XZ68"
      },
      "outputs": [],
      "source": [
        "!pip install -q tensorflow"
      ]
    },
    {
      "cell_type": "code",
      "source": [
        "\n",
        "from keras.preprocessing.image import array_to_img, img_to_array, load_img\n",
        "from keras.utils import plot_model\n",
        "import numpy as np\n",
        "from matplotlib import pyplot as plt\n",
        "from PIL import Image, ImageDraw\n",
        "import os, random, shutil\n",
        "from PIL import ImageFile\n",
        "import zipfile\n",
        "ImageFile.LOAD_TRUNCATED_IMAGES = True\n",
        "\n",
        "\n",
        "if not os.path.exists('/content/sample_data/test/train/cats/'):\n",
        "  os.makedirs('/content/sample_data/test/train/cats/')\n",
        "if not os.path.exists('/content/sample_data/test/train/dogs/'):\n",
        "  os.makedirs('/content/sample_data/test/train/dogs/')\n",
        "\n",
        "\n",
        "zip_file = \"/content/drive/MyDrive/Colab Notebooks/train.zip\"\n",
        "startswith_cats = \"cat\" # начало имени файла для кошек\n",
        "startswith_dogs = \"dog\" # начало имени файла для собак\n",
        "with zipfile.ZipFile(zip_file, 'r') as z:\n",
        "  for file in z.namelist():\n",
        "    file_new = file.rsplit( \"/\", 1 )[ 1 ]\n",
        "    if not (file_new.startswith(startswith_cats) or file_new.startswith(startswith_dogs)): continue\n",
        "    i = int(file_new.split('.')[1])\n",
        "    if file_new.startswith(startswith_cats) and i >= 10750 and i < 10850:\n",
        "      z.extract(file, 'sample_data/test/')\n",
        "      os.replace('sample_data/test/train/'+file_new,'sample_data/test/train/cats/'+file_new)\n",
        "    elif file_new.startswith(startswith_dogs) and i >= 10750 and i < 10850:\n",
        "      z.extract(file,'sample_data/test/')\n",
        "      os.replace('sample_data/test/train/'+file_new,'sample_data/test/train/dogs/'+file_new)\n"
      ],
      "metadata": {
        "id": "iOcRSH9mXcg_"
      },
      "execution_count": 2,
      "outputs": []
    },
    {
      "cell_type": "code",
      "source": [
        "import tensorflow as ts\n",
        "from tensorflow.keras.layers import Conv2D, MaxPooling2D\n",
        "from tensorflow.keras.layers import Activation, Dropout, Flatten, Dense\n",
        "from tensorflow.keras import backend as K"
      ],
      "metadata": {
        "id": "PJbuOFwXXe-x"
      },
      "execution_count": 3,
      "outputs": []
    },
    {
      "cell_type": "code",
      "source": [
        "\n",
        "img_width, img_height = 150, 150 # ширина, высота изображений\n",
        "\n",
        "train_data_dir = 'sample_data/test/train' # директория с изображениями кошек и собак для последующего обучения модели\n",
        "validation_data_dir = 'sample_data/test/validation' # директория с изображениями для тестирования модели\n",
        "nb_train_samples = 2000 # количество тренировочных изображений\n",
        "nb_validation_samples = 800 # количество изображений для тестирования\n",
        "epochs = 30 # количество эпох (итераций)\n",
        "batch_size = 16 # данные разбиваются на \"пакеты\" размером \"batch_size\"\n",
        "\n",
        "if K.image_data_format() == 'channels_first': # для сохранения упорядочевания весов при переключении модели с одного формата данных на другой\n",
        "    input_shape = (3, img_width, img_height)\n",
        "else:\n",
        "    input_shape = (img_width, img_height, 3)\n",
        "\n",
        "model = ts.keras.Sequential()\n",
        "model.add(Conv2D(32, (3, 3), input_shape=input_shape)) # добавляем сверточный 2D-слой. Поскольку это 1-ый слой, необходимо задать ключевой аргумент input_shape\n",
        "# 32 - количество выходных фильтров в свертке, т.е. сколько признаков будем искать\n",
        "# (3, 3) - kernel_size-высота и ширина окна 2D свертки\n",
        "# Имеется 32 фильтра, каждый 3x3x3 (т. е. 27 весов), плюс 1 для смещения (т. е. всего 28 весов каждый). 32 фильтра * 28 весов = 896 параметров.\n",
        "model.add(Activation('relu')) # указываем функцию активации. В данном случае f(z)=max(0,z)\n",
        "model.add(MaxPooling2D(pool_size=(2, 2))) # уменьшим размер исходной матрицы (этот слой обязателен после сверточных слоев)\n",
        "\n",
        "model.add(Conv2D(32, (3, 3))) # добавляем второй сверточный слой\n",
        "model.add(Activation('relu'))\n",
        "model.add(MaxPooling2D(pool_size=(2, 2)))\n",
        "\n",
        "model.add(Conv2D(64, (3, 3))) # добавляем третий сверточный слой (размер фильтра увеличивается, так что сеть уже может изучать более сложные представления)\n",
        "model.add(Activation('relu'))\n",
        "model.add(MaxPooling2D(pool_size=(2, 2)))\n",
        "\n",
        "model.add(Flatten()) # слой, преобразующий 2D-данные в 1D-данные\n",
        "model.add(Dense(64)) # добавляем полносвязный слой с указанием числа выходов\n",
        "model.add(Activation('relu'))\n",
        "model.add(Dropout(0.5)) # добавляем слой, обнуляющий в модели часть весов, чтоб избежать переобучения (0,5 означает, что он отбрасывает 50% существующих соединений)\n",
        "model.add(Dense(1))\n",
        "model.add(Activation('sigmoid'))\n",
        "\n",
        "model.compile(loss='binary_crossentropy',\n",
        "              optimizer='rmsprop',\n",
        "              metrics=['accuracy'])"
      ],
      "metadata": {
        "id": "OnLRy72HXg8l"
      },
      "execution_count": 4,
      "outputs": []
    },
    {
      "cell_type": "code",
      "source": [
        "model.load_weights(\"Model_10k_images.h5\")"
      ],
      "metadata": {
        "id": "IvgaHdSiXlD2"
      },
      "execution_count": 14,
      "outputs": []
    },
    {
      "cell_type": "code",
      "source": [
        "!mkdir test\n",
        "!mkdir test/cat\n",
        "!mkdir test/dog\n",
        "!cp sample_data/test/train/cats/cat.10773.jpg test/cat/cat.jpg\n",
        "!cp sample_data/test/train/dogs/dog.10773.jpg test/dog/dog.jpg"
      ],
      "metadata": {
        "id": "q2J8o412YRku"
      },
      "execution_count": 6,
      "outputs": []
    },
    {
      "cell_type": "code",
      "source": [
        "from tensorflow.keras.preprocessing.image import ImageDataGenerator\n",
        "\n",
        "img_width, img_height = 150, 150\n",
        "test_datagen = ImageDataGenerator(rescale=1./255)\n",
        "test_generator = test_datagen.flow_from_directory(\n",
        "    \"test\",\n",
        "    target_size=(img_width, img_height),\n",
        "    batch_size=2,\n",
        "    class_mode='binary',\n",
        "    shuffle=False)\n",
        "\n",
        "imgs, labels = next(test_generator)\n",
        "array_imgs=np.transpose(np.asarray([img_to_array(img) for img in imgs]),(0,2,1,3))\n",
        "predictions=(model.predict(imgs)).flatten()\n",
        "\n",
        "print(predictions)\n",
        "print(1-0.12875177)\n",
        "print(labels)\n",
        "# если label=0 - это кот и ответ = 1 - pred\n"
      ],
      "metadata": {
        "colab": {
          "base_uri": "https://localhost:8080/"
        },
        "id": "fbkRL6mUXvha",
        "outputId": "8d2d28fb-a4ff-4eda-bd6f-deb34b0e6365"
      },
      "execution_count": 24,
      "outputs": [
        {
          "output_type": "stream",
          "name": "stdout",
          "text": [
            "Found 2 images belonging to 2 classes.\n",
            "1/1 [==============================] - 0s 63ms/step\n",
            "[0.12875177 0.8880785 ]\n",
            "0.87124823\n",
            "[0. 1.]\n"
          ]
        }
      ]
    },
    {
      "cell_type": "code",
      "source": [
        "from tensorflow.keras.preprocessing.image import ImageDataGenerator\n",
        "\n",
        "img_width, img_height = 150, 150\n",
        "test_datagen = ImageDataGenerator(rescale=1./255)\n",
        "test_generator = test_datagen.flow_from_directory(\n",
        "    \"/content/sample_data/test/train\",\n",
        "    target_size=(img_width, img_height),\n",
        "    batch_size=200,\n",
        "    class_mode='binary',\n",
        "    shuffle=False)"
      ],
      "metadata": {
        "colab": {
          "base_uri": "https://localhost:8080/"
        },
        "id": "HM4BiUkVXyVj",
        "outputId": "06a433bc-2b3b-4d5c-d2e0-b842282227ef"
      },
      "execution_count": 20,
      "outputs": [
        {
          "output_type": "stream",
          "name": "stdout",
          "text": [
            "Found 200 images belonging to 2 classes.\n"
          ]
        }
      ]
    },
    {
      "cell_type": "code",
      "source": [
        "imgs, labels = next(test_generator)\n",
        "array_imgs=np.transpose(np.asarray([img_to_array(img) for img in imgs]),(0,2,1,3))\n",
        "predictions=np.round(model.predict(imgs)).flatten()\n",
        "print(predictions)\n",
        "print(\"okeoke\")\n",
        "print(labels)"
      ],
      "metadata": {
        "colab": {
          "base_uri": "https://localhost:8080/"
        },
        "id": "sP4_robiXz_e",
        "outputId": "4db90e08-e098-40c3-94f5-793ec7c0118c"
      },
      "execution_count": 22,
      "outputs": [
        {
          "output_type": "stream",
          "name": "stdout",
          "text": [
            "7/7 [==============================] - 3s 362ms/step\n",
            "[0. 0. 0. 0. 0. 0. 0. 0. 1. 0. 0. 0. 0. 0. 0. 0. 0. 0. 1. 0. 0. 0. 0. 0.\n",
            " 0. 1. 0. 0. 0. 0. 0. 0. 0. 0. 0. 0. 0. 1. 0. 0. 0. 0. 0. 0. 1. 0. 0. 0.\n",
            " 0. 0. 0. 0. 0. 0. 0. 0. 0. 0. 0. 0. 0. 0. 0. 0. 0. 0. 0. 0. 0. 0. 0. 0.\n",
            " 0. 1. 0. 0. 0. 0. 0. 0. 0. 1. 0. 0. 0. 0. 0. 0. 0. 1. 0. 1. 0. 0. 0. 1.\n",
            " 0. 0. 0. 0. 1. 1. 1. 1. 0. 1. 1. 0. 0. 1. 1. 1. 1. 1. 0. 0. 0. 0. 1. 0.\n",
            " 0. 0. 1. 1. 1. 1. 1. 1. 1. 1. 1. 1. 1. 1. 0. 0. 1. 0. 1. 1. 0. 1. 1. 0.\n",
            " 1. 1. 1. 0. 0. 1. 1. 0. 1. 0. 1. 0. 0. 1. 1. 0. 1. 1. 0. 0. 1. 1. 1. 0.\n",
            " 1. 1. 0. 1. 1. 1. 1. 1. 0. 1. 1. 1. 1. 1. 1. 1. 1. 0. 0. 1. 0. 0. 0. 1.\n",
            " 1. 1. 1. 1. 1. 0. 1. 0.]\n",
            "okeoke\n",
            "[0. 0. 0. 0. 0. 0. 0. 0. 0. 0. 0. 0. 0. 0. 0. 0. 0. 0. 0. 0. 0. 0. 0. 0.\n",
            " 0. 0. 0. 0. 0. 0. 0. 0. 0. 0. 0. 0. 0. 0. 0. 0. 0. 0. 0. 0. 0. 0. 0. 0.\n",
            " 0. 0. 0. 0. 0. 0. 0. 0. 0. 0. 0. 0. 0. 0. 0. 0. 0. 0. 0. 0. 0. 0. 0. 0.\n",
            " 0. 0. 0. 0. 0. 0. 0. 0. 0. 0. 0. 0. 0. 0. 0. 0. 0. 0. 0. 0. 0. 0. 0. 0.\n",
            " 0. 0. 0. 0. 1. 1. 1. 1. 1. 1. 1. 1. 1. 1. 1. 1. 1. 1. 1. 1. 1. 1. 1. 1.\n",
            " 1. 1. 1. 1. 1. 1. 1. 1. 1. 1. 1. 1. 1. 1. 1. 1. 1. 1. 1. 1. 1. 1. 1. 1.\n",
            " 1. 1. 1. 1. 1. 1. 1. 1. 1. 1. 1. 1. 1. 1. 1. 1. 1. 1. 1. 1. 1. 1. 1. 1.\n",
            " 1. 1. 1. 1. 1. 1. 1. 1. 1. 1. 1. 1. 1. 1. 1. 1. 1. 1. 1. 1. 1. 1. 1. 1.\n",
            " 1. 1. 1. 1. 1. 1. 1. 1.]\n"
          ]
        }
      ]
    },
    {
      "cell_type": "code",
      "source": [
        "from sklearn.metrics import f1_score, precision_score, recall_score, accuracy_score\n",
        "\n",
        "print(\"f1\")\n",
        "print(f1_score(labels, predictions, average='macro'))\n",
        "\n",
        "print(\"precision\")\n",
        "print(precision_score(labels, predictions, average='macro'))\n",
        "\n",
        "print(\"recall\")\n",
        "print(recall_score(labels, predictions, average='macro'))\n",
        "\n",
        "\n",
        "print(\"accuracy\")\n",
        "print(accuracy_score(labels, predictions))"
      ],
      "metadata": {
        "colab": {
          "base_uri": "https://localhost:8080/"
        },
        "id": "QGTmuqqRX1jp",
        "outputId": "10dbfa48-db3d-4a4b-f8b1-f849c7a86677"
      },
      "execution_count": 23,
      "outputs": [
        {
          "output_type": "stream",
          "name": "stdout",
          "text": [
            "f1\n",
            "0.7767857142857144\n",
            "precision\n",
            "0.7971137521222411\n",
            "recall\n",
            "0.78\n",
            "accuracy\n",
            "0.78\n"
          ]
        }
      ]
    }
  ]
}